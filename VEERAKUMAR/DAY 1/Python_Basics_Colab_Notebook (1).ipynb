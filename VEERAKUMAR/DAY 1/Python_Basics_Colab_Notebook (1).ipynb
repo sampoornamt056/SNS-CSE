{
  "cells": [
    {
      "cell_type": "markdown",
      "id": "d01b9dde",
      "metadata": {
        "id": "d01b9dde"
      },
      "source": [
        "# 🐍 Python Basics Practice Notebook\n",
        "\n",
        "This notebook contains **20 foundational problems** and **5 real-time examples** to practice Python from scratch."
      ]
    },
    {
      "cell_type": "markdown",
      "id": "5e99f9c5",
      "metadata": {
        "id": "5e99f9c5"
      },
      "source": [
        "### 🔹 Store and print user info"
      ]
    },
    {
      "cell_type": "code",
      "execution_count": null,
      "id": "9ba65719",
      "metadata": {
        "id": "9ba65719",
        "outputId": "02166878-2591-4bee-fe6b-63a1547730f7",
        "colab": {
          "base_uri": "https://localhost:8080/"
        }
      },
      "outputs": [
        {
          "output_type": "stream",
          "name": "stdout",
          "text": [
            "Name: John\n",
            "Age: 25\n",
            "City: New York\n"
          ]
        }
      ],
      "source": [
        "# Problem 1: Store and Print User Info\n",
        "\n",
        "# Explanation:\n",
        "# Variables are containers for storing data values.\n",
        "# Here we create variables for name, age, and city and then print them.\n",
        "\n",
        "name = \"John\"\n",
        "age = 25\n",
        "city = \"New York\"\n",
        "\n",
        "print(\"Name:\", name)\n",
        "print(\"Age:\", age)\n",
        "print(\"City:\", city)"
      ]
    },
    {
      "cell_type": "markdown",
      "id": "19186ccf",
      "metadata": {
        "id": "19186ccf"
      },
      "source": [
        "### 🔹 Add two numbers"
      ]
    },
    {
      "cell_type": "code",
      "execution_count": null,
      "id": "cfa85dbf",
      "metadata": {
        "id": "cfa85dbf",
        "outputId": "c56d7d3e-0505-4ae1-95bd-db42889dbd89",
        "colab": {
          "base_uri": "https://localhost:8080/"
        }
      },
      "outputs": [
        {
          "output_type": "stream",
          "name": "stdout",
          "text": [
            "Enter first number: 30\n",
            "Enter second number: 40\n",
            "Sum: 70\n"
          ]
        }
      ],
      "source": [
        "# Problem 2: Add Two Numbers\n",
        "\n",
        "# Explanation:\n",
        "# Taking input from user using input(), converting to int using int().\n",
        "# Then adding and printing the result.\n",
        "\n",
        "a = int(input(\"Enter first number: \"))\n",
        "b = int(input(\"Enter second number: \"))\n",
        "print(\"Sum:\", a + b)"
      ]
    },
    {
      "cell_type": "markdown",
      "id": "d8b35be1",
      "metadata": {
        "id": "d8b35be1"
      },
      "source": [
        "### 🔹 Check data types of inputs"
      ]
    },
    {
      "cell_type": "code",
      "execution_count": null,
      "id": "f51569c5",
      "metadata": {
        "id": "f51569c5"
      },
      "outputs": [],
      "source": [
        "# Problem 3: Check Data Types\n",
        "\n",
        "a = 10\n",
        "b = 3.14\n",
        "c = \"Python\"\n",
        "\n",
        "print(type(a))  # int\n",
        "print(type(b))  # float\n",
        "print(type(c))  # str"
      ]
    },
    {
      "cell_type": "markdown",
      "id": "086fb677",
      "metadata": {
        "id": "086fb677"
      },
      "source": [
        "### 🔹 Convert input to float and calculate area"
      ]
    },
    {
      "cell_type": "code",
      "execution_count": null,
      "id": "3e05bd37",
      "metadata": {
        "id": "3e05bd37"
      },
      "outputs": [],
      "source": [
        "# Problem 4: Convert Input to Float and Calculate Area\n",
        "\n",
        "radius = float(input(\"Enter radius of circle: \"))\n",
        "area = 3.14159 * radius * radius\n",
        "print(\"Area of circle:\", area)"
      ]
    },
    {
      "cell_type": "markdown",
      "id": "bed00b4c",
      "metadata": {
        "id": "bed00b4c"
      },
      "source": [
        "### 🔹 Count vowels in a string"
      ]
    },
    {
      "cell_type": "code",
      "execution_count": null,
      "id": "b6cb8699",
      "metadata": {
        "id": "b6cb8699"
      },
      "outputs": [],
      "source": [
        "# Problem 5: Count Vowels in a String\n",
        "\n",
        "text = input(\"Enter a string: \")\n",
        "vowels = \"aeiouAEIOU\"\n",
        "count = 0\n",
        "\n",
        "for char in text:\n",
        "    if char in vowels:\n",
        "        count += 1\n",
        "\n",
        "print(\"Number of vowels:\", count)"
      ]
    },
    {
      "cell_type": "markdown",
      "id": "ac142558",
      "metadata": {
        "id": "ac142558"
      },
      "source": [
        "### 🔹 Reverse a word"
      ]
    },
    {
      "cell_type": "code",
      "execution_count": null,
      "id": "10000397",
      "metadata": {
        "id": "10000397"
      },
      "outputs": [],
      "source": [
        "# Problem 6: Reverse a Word\n",
        "\n",
        "word = input(\"Enter a word: \")\n",
        "print(\"Reversed:\", word[::-1])"
      ]
    },
    {
      "cell_type": "markdown",
      "id": "91ab66c1",
      "metadata": {
        "id": "91ab66c1"
      },
      "source": [
        "### 🔹 Average of N numbers"
      ]
    },
    {
      "cell_type": "code",
      "execution_count": null,
      "id": "f187dc3b",
      "metadata": {
        "id": "f187dc3b"
      },
      "outputs": [],
      "source": [
        "# Problem 7: Average of N Numbers\n",
        "\n",
        "nums = []\n",
        "n = int(input(\"How many numbers? \"))\n",
        "\n",
        "for i in range(n):\n",
        "    val = float(input(f\"Enter number {i+1}: \"))\n",
        "    nums.append(val)\n",
        "\n",
        "average = sum(nums) / len(nums)\n",
        "print(\"Average is:\", average)"
      ]
    },
    {
      "cell_type": "markdown",
      "id": "6a4dbe0a",
      "metadata": {
        "id": "6a4dbe0a"
      },
      "source": [
        "### 🔹 Find maximum number from a list"
      ]
    },
    {
      "cell_type": "code",
      "execution_count": null,
      "id": "585217ea",
      "metadata": {
        "id": "585217ea"
      },
      "outputs": [],
      "source": [
        "# Problem 8: Find Maximum in List\n",
        "\n",
        "numbers = [10, 55, 32, 64, 29]\n",
        "print(\"Max value:\", max(numbers))"
      ]
    },
    {
      "cell_type": "markdown",
      "id": "42163d8d",
      "metadata": {
        "id": "42163d8d"
      },
      "source": [
        "### 🔹 Add/Remove items from list"
      ]
    },
    {
      "cell_type": "code",
      "execution_count": null,
      "id": "230bf83c",
      "metadata": {
        "id": "230bf83c"
      },
      "outputs": [],
      "source": [
        "# Problem 9: List Add/Remove\n",
        "\n",
        "fruits = [\"apple\", \"banana\", \"cherry\"]\n",
        "fruits.append(\"orange\")\n",
        "fruits.remove(\"banana\")\n",
        "print(fruits)"
      ]
    },
    {
      "cell_type": "markdown",
      "id": "77e01d29",
      "metadata": {
        "id": "77e01d29"
      },
      "source": [
        "### 🔹 Print 1 to 10 using for loop"
      ]
    },
    {
      "cell_type": "code",
      "execution_count": null,
      "id": "b71313dd",
      "metadata": {
        "id": "b71313dd"
      },
      "outputs": [],
      "source": [
        "# Problem 10: Print 1 to 10 using For Loop\n",
        "\n",
        "for i in range(1, 11):\n",
        "    print(i)"
      ]
    },
    {
      "cell_type": "markdown",
      "id": "12405d86",
      "metadata": {
        "id": "12405d86"
      },
      "source": [
        "### 🔹 Sum of first N numbers"
      ]
    },
    {
      "cell_type": "code",
      "execution_count": null,
      "id": "e5b2beb4",
      "metadata": {
        "id": "e5b2beb4"
      },
      "outputs": [],
      "source": [
        "# Problem 11: Sum of First N Numbers\n",
        "\n",
        "n = int(input(\"Enter a number: \"))\n",
        "total = 0\n",
        "for i in range(1, n+1):\n",
        "    total += i\n",
        "print(\"Sum:\", total)"
      ]
    },
    {
      "cell_type": "markdown",
      "id": "104febbc",
      "metadata": {
        "id": "104febbc"
      },
      "source": [
        "### 🔹 Count digits in a number"
      ]
    },
    {
      "cell_type": "code",
      "execution_count": null,
      "id": "c5a60548",
      "metadata": {
        "id": "c5a60548"
      },
      "outputs": [],
      "source": [
        "# Problem 12: Count Digits using While Loop\n",
        "\n",
        "num = int(input(\"Enter a number: \"))\n",
        "count = 0\n",
        "while num > 0:\n",
        "    num = num // 10\n",
        "    count += 1\n",
        "print(\"Number of digits:\", count)"
      ]
    },
    {
      "cell_type": "markdown",
      "id": "32d3e833",
      "metadata": {
        "id": "32d3e833"
      },
      "source": [
        "### 🔹 Check if a number is even/odd"
      ]
    },
    {
      "cell_type": "code",
      "execution_count": null,
      "id": "b4f21291",
      "metadata": {
        "id": "b4f21291"
      },
      "outputs": [],
      "source": [
        "# Problem 13: Even or Odd\n",
        "\n",
        "n = int(input(\"Enter a number: \"))\n",
        "if n % 2 == 0:\n",
        "    print(\"Even\")\n",
        "else:\n",
        "    print(\"Odd\")"
      ]
    },
    {
      "cell_type": "markdown",
      "id": "2465015d",
      "metadata": {
        "id": "2465015d"
      },
      "source": [
        "### 🔹 Grade student based on marks"
      ]
    },
    {
      "cell_type": "code",
      "execution_count": null,
      "id": "957de904",
      "metadata": {
        "id": "957de904"
      },
      "outputs": [],
      "source": [
        "# Problem 14: Grade Student\n",
        "\n",
        "marks = int(input(\"Enter marks: \"))\n",
        "if marks >= 90:\n",
        "    print(\"Grade A\")\n",
        "elif marks >= 75:\n",
        "    print(\"Grade B\")\n",
        "elif marks >= 50:\n",
        "    print(\"Grade C\")\n",
        "else:\n",
        "    print(\"Fail\")"
      ]
    },
    {
      "cell_type": "markdown",
      "id": "d49aa603",
      "metadata": {
        "id": "d49aa603"
      },
      "source": [
        "### 🔹 Check leap year"
      ]
    },
    {
      "cell_type": "code",
      "execution_count": null,
      "id": "3a3df78f",
      "metadata": {
        "id": "3a3df78f"
      },
      "outputs": [],
      "source": [
        "# Problem 15: Leap Year Checker\n",
        "\n",
        "year = int(input(\"Enter year: \"))\n",
        "if (year % 4 == 0 and year % 100 != 0) or (year % 400 == 0):\n",
        "    print(\"Leap Year\")\n",
        "else:\n",
        "    print(\"Not a Leap Year\")"
      ]
    },
    {
      "cell_type": "markdown",
      "id": "e02fcf65",
      "metadata": {
        "id": "e02fcf65"
      },
      "source": [
        "### 🔹 Create a greeting function"
      ]
    },
    {
      "cell_type": "code",
      "execution_count": null,
      "id": "dede723f",
      "metadata": {
        "id": "dede723f"
      },
      "outputs": [],
      "source": [
        "# Problem 16: Greeting Function\n",
        "\n",
        "def greet(name):\n",
        "    print(\"Hello\", name)\n",
        "\n",
        "greet(\"Veera\")"
      ]
    },
    {
      "cell_type": "markdown",
      "id": "c42a6d95",
      "metadata": {
        "id": "c42a6d95"
      },
      "source": [
        "### 🔹 Find factorial of a number"
      ]
    },
    {
      "cell_type": "code",
      "execution_count": null,
      "id": "f2b82ad2",
      "metadata": {
        "id": "f2b82ad2"
      },
      "outputs": [],
      "source": [
        "# Problem 17: Factorial using Function\n",
        "\n",
        "def factorial(n):\n",
        "    result = 1\n",
        "    for i in range(1, n+1):\n",
        "        result *= i\n",
        "    return result\n",
        "\n",
        "print(factorial(5))"
      ]
    },
    {
      "cell_type": "markdown",
      "id": "b6dbcfbd",
      "metadata": {
        "id": "b6dbcfbd"
      },
      "source": [
        "### 🔹 Prime number checker"
      ]
    },
    {
      "cell_type": "code",
      "execution_count": null,
      "id": "53f53eb1",
      "metadata": {
        "id": "53f53eb1"
      },
      "outputs": [],
      "source": [
        "# Problem 18: Prime Checker\n",
        "\n",
        "def is_prime(n):\n",
        "    if n <= 1:\n",
        "        return False\n",
        "    for i in range(2, n):\n",
        "        if n % i == 0:\n",
        "            return False\n",
        "    return True\n",
        "\n",
        "print(is_prime(11))"
      ]
    },
    {
      "cell_type": "markdown",
      "id": "1b8dd0d5",
      "metadata": {
        "id": "1b8dd0d5"
      },
      "source": [
        "### 🔹 Store student data and display"
      ]
    },
    {
      "cell_type": "code",
      "execution_count": null,
      "id": "6c376e5e",
      "metadata": {
        "id": "6c376e5e"
      },
      "outputs": [],
      "source": [
        "# Problem 19: Dictionary for Student Info\n",
        "\n",
        "student = {\n",
        "    \"name\": \"Rahul\",\n",
        "    \"age\": 21,\n",
        "    \"marks\": [85, 78, 92]\n",
        "}\n",
        "print(student)\n",
        "print(\"Name:\", student[\"name\"])"
      ]
    },
    {
      "cell_type": "markdown",
      "id": "a7797f37",
      "metadata": {
        "id": "a7797f37"
      },
      "source": [
        "### 🔹 Remove duplicates from list using set"
      ]
    },
    {
      "cell_type": "code",
      "execution_count": null,
      "id": "9e5212a4",
      "metadata": {
        "id": "9e5212a4"
      },
      "outputs": [],
      "source": [
        "# Problem 20: Remove Duplicates Using Set\n",
        "\n",
        "nums = [1, 2, 2, 3, 4, 4, 5]\n",
        "unique = list(set(nums))\n",
        "print(\"Unique values:\", unique)"
      ]
    },
    {
      "cell_type": "markdown",
      "id": "9c359eff",
      "metadata": {
        "id": "9c359eff"
      },
      "source": [
        "## 🚀 Real-Time Practice Projects (Mini Tasks)\n",
        "Each of these can be given as an assignment."
      ]
    },
    {
      "cell_type": "markdown",
      "id": "966ab56d",
      "metadata": {
        "id": "966ab56d"
      },
      "source": [
        "### 🔸 BMI Calculator"
      ]
    },
    {
      "cell_type": "code",
      "execution_count": null,
      "id": "935eb902",
      "metadata": {
        "id": "935eb902"
      },
      "outputs": [],
      "source": [
        "# BMI Calculator\n",
        "\n",
        "weight = float(input(\"Enter weight in kg: \"))\n",
        "height = float(input(\"Enter height in meters: \"))\n",
        "\n",
        "bmi = weight / (height ** 2)\n",
        "print(\"Your BMI is:\", round(bmi, 2))"
      ]
    },
    {
      "cell_type": "markdown",
      "id": "e70fbcd7",
      "metadata": {
        "id": "e70fbcd7"
      },
      "source": [
        "### 🔸 Simple Interest Calculator"
      ]
    },
    {
      "cell_type": "code",
      "execution_count": null,
      "id": "1cdb4662",
      "metadata": {
        "id": "1cdb4662"
      },
      "outputs": [],
      "source": [
        "# Simple Interest Calculator\n",
        "\n",
        "p = float(input(\"Enter principal: \"))\n",
        "r = float(input(\"Enter rate: \"))\n",
        "t = float(input(\"Enter time in years: \"))\n",
        "\n",
        "si = (p * r * t) / 100\n",
        "print(\"Simple Interest:\", si)"
      ]
    },
    {
      "cell_type": "markdown",
      "id": "0e97ea07",
      "metadata": {
        "id": "0e97ea07"
      },
      "source": [
        "### 🔸 Password Validator"
      ]
    },
    {
      "cell_type": "code",
      "execution_count": null,
      "id": "f5626c8c",
      "metadata": {
        "id": "f5626c8c"
      },
      "outputs": [],
      "source": [
        "# Password Validator\n",
        "\n",
        "password = input(\"Enter password: \")\n",
        "\n",
        "if len(password) >= 8 and any(c.isdigit() for c in password) and any(c.isupper() for c in password):\n",
        "    print(\"Strong password!\")\n",
        "else:\n",
        "    print(\"Weak password. Use at least 8 characters, a digit, and a capital letter.\")"
      ]
    },
    {
      "cell_type": "markdown",
      "id": "f182477e",
      "metadata": {
        "id": "f182477e"
      },
      "source": [
        "### 🔸 Student Marks Report"
      ]
    },
    {
      "cell_type": "code",
      "execution_count": null,
      "id": "01cf07b6",
      "metadata": {
        "id": "01cf07b6"
      },
      "outputs": [],
      "source": [
        "# Student Marks Report Generator\n",
        "\n",
        "def generate_report(name, marks):\n",
        "    print(\"Report for\", name)\n",
        "    print(\"Marks:\", marks)\n",
        "    print(\"Average:\", sum(marks)/len(marks))\n",
        "\n",
        "generate_report(\"Veera\", [80, 75, 92])"
      ]
    },
    {
      "cell_type": "markdown",
      "id": "665f2bfd",
      "metadata": {
        "id": "665f2bfd"
      },
      "source": [
        "### 🔸 Shopping Cart Simulator"
      ]
    },
    {
      "cell_type": "code",
      "execution_count": null,
      "id": "f50193a3",
      "metadata": {
        "id": "f50193a3"
      },
      "outputs": [],
      "source": [
        "# Shopping Cart Simulator\n",
        "\n",
        "cart = []\n",
        "\n",
        "while True:\n",
        "    item = input(\"Enter item to add (or 'done' to exit): \")\n",
        "    if item == 'done':\n",
        "        break\n",
        "    cart.append(item)\n",
        "\n",
        "print(\"Items in cart:\", cart)"
      ]
    }
  ],
  "metadata": {
    "colab": {
      "provenance": []
    },
    "language_info": {
      "name": "python"
    },
    "kernelspec": {
      "name": "python3",
      "display_name": "Python 3"
    }
  },
  "nbformat": 4,
  "nbformat_minor": 5
}