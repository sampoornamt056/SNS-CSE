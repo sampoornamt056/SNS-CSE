{
  "nbformat": 4,
  "nbformat_minor": 0,
  "metadata": {
    "colab": {
      "provenance": []
    },
    "kernelspec": {
      "name": "python3",
      "display_name": "Python 3"
    },
    "language_info": {
      "name": "python"
    }
  },
  "cells": [
    {
      "cell_type": "code",
      "execution_count": 3,
      "metadata": {
        "id": "6Qy1Xmq16SOT",
        "colab": {
          "base_uri": "https://localhost:8080/",
          "height": 0
        },
        "outputId": "f16e53a9-effd-42d7-865f-bee20fc47687"
      },
      "outputs": [
        {
          "output_type": "stream",
          "name": "stdout",
          "text": [
            "<class 'int'> <class 'float'> <class 'complex'>\n"
          ]
        }
      ],
      "source": [
        "# Integer and Float\n",
        "int_num = 5 # Integer\n",
        "float_num = 3.14 # Float\n",
        "complex_num = 2 + 3j # Complex Number\n",
        "print(type(int_num), type(float_num), type(complex_num))"
      ]
    },
    {
      "cell_type": "code",
      "source": [],
      "metadata": {
        "id": "evsXmnnQIhdz"
      },
      "execution_count": null,
      "outputs": []
    },
    {
      "cell_type": "code",
      "source": [
        "a = 5.1\n",
        "float_num = 3.14\n",
        "complex_num = 3 + 4j\n",
        "\n",
        "print(type(a), float_num)"
      ],
      "metadata": {
        "colab": {
          "base_uri": "https://localhost:8080/",
          "height": 0
        },
        "id": "klqI2ezSClZq",
        "outputId": "2833820c-e00b-40b9-df05-067020c6f693"
      },
      "execution_count": 4,
      "outputs": [
        {
          "output_type": "stream",
          "name": "stdout",
          "text": [
            "<class 'float'> 3.14\n"
          ]
        }
      ]
    },
    {
      "cell_type": "code",
      "source": [
        "greeting = \"Welcome to Data Science!\"\n",
        "print(greeting)\n",
        "print(greeting.lower()) # Lowercase\n",
        "print(greeting[0:7]) # Slicing"
      ],
      "metadata": {
        "colab": {
          "base_uri": "https://localhost:8080/",
          "height": 0
        },
        "id": "RbQmmUw6Csco",
        "outputId": "cdc894c4-4075-4abe-f494-f5fc219b50da"
      },
      "execution_count": 5,
      "outputs": [
        {
          "output_type": "stream",
          "name": "stdout",
          "text": [
            "Welcome to Data Science!\n",
            "welcome to data science!\n",
            "Welcome\n"
          ]
        }
      ]
    },
    {
      "cell_type": "code",
      "source": [
        "a = \"CODEBOOSTERS\"\n",
        "print(a.lower())"
      ],
      "metadata": {
        "colab": {
          "base_uri": "https://localhost:8080/",
          "height": 0
        },
        "id": "Bs7_rgoqDzQg",
        "outputId": "8e65e8b8-8eea-4057-fd97-f8b917b70c52"
      },
      "execution_count": 6,
      "outputs": [
        {
          "output_type": "stream",
          "name": "stdout",
          "text": [
            "codeboosters\n"
          ]
        }
      ]
    },
    {
      "cell_type": "code",
      "source": [
        "a = True\n",
        "print(f\"Is Data Scientist: {a}\")"
      ],
      "metadata": {
        "colab": {
          "base_uri": "https://localhost:8080/",
          "height": 0
        },
        "id": "zK4S1o7vEbu0",
        "outputId": "6e5407e1-d36a-4c1f-ef94-cb3eab8efab4"
      },
      "execution_count": 7,
      "outputs": [
        {
          "output_type": "stream",
          "name": "stdout",
          "text": [
            "Is Data Scientist: True\n"
          ]
        }
      ]
    },
    {
      "cell_type": "code",
      "source": [
        "# List\n",
        "fruits = [\"apple\", \"banana\", \"cherry\"]\n",
        "print(f\"Fruits List: {fruits}\")\n",
        "\n",
        "# Tuple\n",
        "dimensions = (1920, 1080)\n",
        "print(f\"Dimensions Tuple: {dimensions}\")\n",
        "\n",
        "# Set\n",
        "unique_numbers = {1, 2, 3, 2, 1}\n",
        "print(f\"Unique Numbers Set: {unique_numbers}\")\n",
        "\n",
        "# Dictionary\n",
        "person = {\"name\": \"Alice\", \"age\": 30}\n",
        "print(f\"Person Dictionary: {person}\")\n"
      ],
      "metadata": {
        "id": "piYeqenYF7WM",
        "colab": {
          "base_uri": "https://localhost:8080/",
          "height": 0
        },
        "outputId": "67299717-03b8-47b4-9cf3-262a35726c06"
      },
      "execution_count": 9,
      "outputs": [
        {
          "output_type": "stream",
          "name": "stdout",
          "text": [
            "Fruits List: ['apple', 'banana', 'cherry']\n",
            "Dimensions Tuple: (1920, 1080)\n",
            "Unique Numbers Set: {1, 2, 3}\n",
            "Person Dictionary: {'name': 'Alice', 'age': 30}\n"
          ]
        }
      ]
    },
    {
      "cell_type": "code",
      "source": [
        "# List\n",
        "fruits = [\"apple\", \"banana\", \"cherry\"]\n",
        "a = [1, \"abc\"]\n",
        "print(f\"Fruits List: {fruits}\")\n",
        "print(a)"
      ],
      "metadata": {
        "colab": {
          "base_uri": "https://localhost:8080/"
        },
        "id": "Jc68vCYoGEzU",
        "outputId": "d8641cf6-d5c7-4ac0-e3d2-ba68b925599a"
      },
      "execution_count": null,
      "outputs": [
        {
          "output_type": "stream",
          "name": "stdout",
          "text": [
            "Fruits List: ['apple', 'banana', 'cherry']\n",
            "[1, 'abc']\n"
          ]
        }
      ]
    },
    {
      "cell_type": "code",
      "source": [
        "# Tuple\n",
        "dimensions = (1920, 1080)\n",
        "print(f\"Dimensions Tuple: {dimensions}\")"
      ],
      "metadata": {
        "colab": {
          "base_uri": "https://localhost:8080/"
        },
        "id": "A6gz5XW5Gjpo",
        "outputId": "a8ddef6d-0c90-4014-e733-4c1dd16e0a42"
      },
      "execution_count": null,
      "outputs": [
        {
          "output_type": "stream",
          "name": "stdout",
          "text": [
            "Dimensions Tuple: (1920, 1080)\n"
          ]
        }
      ]
    },
    {
      "cell_type": "code",
      "source": [
        "# Set\n",
        "unique_numbers = {1, 2, 3, 2, 1,4, 4}\n",
        "print(f\"Unique Numbers Set: {unique_numbers}\")\n"
      ],
      "metadata": {
        "colab": {
          "base_uri": "https://localhost:8080/"
        },
        "id": "S-Isi7M_HZe3",
        "outputId": "0a95e858-873e-4fab-c6d5-441849c5873d"
      },
      "execution_count": null,
      "outputs": [
        {
          "output_type": "stream",
          "name": "stdout",
          "text": [
            "Unique Numbers Set: {1, 2, 3, 4}\n"
          ]
        }
      ]
    },
    {
      "cell_type": "code",
      "source": [
        "# Dictionary - key value pair\n",
        "person = {\"name\": \"Alice\", \"age\": 30}\n",
        "print(f\"Person Dictionary: {person}\")"
      ],
      "metadata": {
        "colab": {
          "base_uri": "https://localhost:8080/"
        },
        "id": "bz81IdJtHw4G",
        "outputId": "f1d59d04-a755-41b4-80da-b0d40c17d089"
      },
      "execution_count": null,
      "outputs": [
        {
          "output_type": "stream",
          "name": "stdout",
          "text": [
            "Person Dictionary: {'name': 'Alice', 'age': 30}\n"
          ]
        }
      ]
    },
    {
      "cell_type": "code",
      "source": [
        "ppg = {\"REG NO\": 0, \"NAME\": \"NIVASHINI\", \"SUBJECT\": \"PYTHON\"}\n",
        "ppg1 = {\"REG NO\": 1, \"NAME\": \"dhivya\", \"SUBJECT\": \"AI\"}\n",
        "\n",
        "print(f\"details: {ppg} {ppg1}\")"
      ],
      "metadata": {
        "colab": {
          "base_uri": "https://localhost:8080/"
        },
        "id": "vR7hkHwUICmz",
        "outputId": "15c3e76e-1fa2-4841-ceac-8d74aebacec7"
      },
      "execution_count": null,
      "outputs": [
        {
          "output_type": "stream",
          "name": "stdout",
          "text": [
            "details: {'REG NO': 0, 'NAME': 'NIVASHINI', 'SUBJECT': 'PYTHON'} {'REG NO': 1, 'NAME': 'dhivya', 'SUBJECT': 'AI'}\n"
          ]
        }
      ]
    },
    {
      "cell_type": "code",
      "source": [
        "a = 2 + 3\n",
        "b = \"2\"+\"3\"\n",
        "print(a)\n",
        "print(b)\n",
        "print(type(b))"
      ],
      "metadata": {
        "colab": {
          "base_uri": "https://localhost:8080/"
        },
        "id": "PtGHil15JdrU",
        "outputId": "63a6e8b9-ffb9-4c1a-abb3-7b5106e3d550"
      },
      "execution_count": null,
      "outputs": [
        {
          "output_type": "stream",
          "name": "stdout",
          "text": [
            "5\n",
            "23\n",
            "<class 'str'>\n"
          ]
        }
      ]
    },
    {
      "cell_type": "code",
      "source": [
        "# Defining a function\n",
        "def ab(a, b, c):\n",
        " return a + b - c\n",
        "\n",
        "# Using the function\n",
        "result = ab(10, 5, 10)\n",
        "codeboosters = ab(20, 20, 20)\n",
        "ab = ab(10, 15, 10)\n",
        "\n",
        "print(result)\n",
        "print(codeboosters, ab)\n"
      ],
      "metadata": {
        "colab": {
          "base_uri": "https://localhost:8080/",
          "height": 0
        },
        "id": "SiZfRhtBLYO2",
        "outputId": "d309d8d4-85f7-4976-bb9e-6265f5a5763d"
      },
      "execution_count": 10,
      "outputs": [
        {
          "output_type": "stream",
          "name": "stdout",
          "text": [
            "5\n",
            "20 15\n"
          ]
        }
      ]
    },
    {
      "cell_type": "code",
      "source": [
        "a = 20\n",
        "b = 5\n",
        "c = 10\n",
        "result = a * b - c\n",
        "\n",
        "print(result)"
      ],
      "metadata": {
        "colab": {
          "base_uri": "https://localhost:8080/"
        },
        "id": "A2dOgUR3MUR4",
        "outputId": "407d3e75-2a34-479a-fe92-9f2f10c22390"
      },
      "execution_count": null,
      "outputs": [
        {
          "output_type": "stream",
          "name": "stdout",
          "text": [
            "90\n"
          ]
        }
      ]
    },
    {
      "cell_type": "code",
      "source": [
        "numbers = [1, 2, 3, 4, 5, 100]\n",
        "print(f\"Sum: {sum(numbers)}\")\n",
        "print(f\"Max: {max(numbers)}\")\n"
      ],
      "metadata": {
        "colab": {
          "base_uri": "https://localhost:8080/"
        },
        "id": "5PTh4KK0M7a9",
        "outputId": "c42b20bc-b109-4818-a827-a3df0ae0c9fa"
      },
      "execution_count": null,
      "outputs": [
        {
          "output_type": "stream",
          "name": "stdout",
          "text": [
            "Sum: 115\n",
            "Max: 100\n"
          ]
        }
      ]
    },
    {
      "cell_type": "code",
      "source": [
        "# Example: Determine if a number is positive, negative, or zero\n",
        "num = 0\n",
        "if num > 0:\n",
        "  print(\"Positive\")\n",
        "elif num == 0:\n",
        "  print(\"Zero\")\n",
        "else:\n",
        "  print(\"Negative\")\n",
        "\n"
      ],
      "metadata": {
        "colab": {
          "base_uri": "https://localhost:8080/"
        },
        "id": "RpkwuSATPfBj",
        "outputId": "0eb21e23-caf1-455c-fe4f-8396096a0007"
      },
      "execution_count": null,
      "outputs": [
        {
          "output_type": "stream",
          "name": "stdout",
          "text": [
            "Zero\n"
          ]
        }
      ]
    },
    {
      "cell_type": "code",
      "source": [
        "count = 2\n",
        "while count < 5:\n",
        "  print(f\"C: {count}\")\n",
        "  count += 1"
      ],
      "metadata": {
        "colab": {
          "base_uri": "https://localhost:8080/"
        },
        "id": "XkC6b1paRYSr",
        "outputId": "93df24d8-d72c-41ec-efab-cc871f093234"
      },
      "execution_count": null,
      "outputs": [
        {
          "output_type": "stream",
          "name": "stdout",
          "text": [
            "C: 2\n",
            "C: 3\n",
            "C: 4\n"
          ]
        }
      ]
    }
  ]
}