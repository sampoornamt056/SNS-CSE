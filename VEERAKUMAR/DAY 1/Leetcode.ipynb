{
  "nbformat": 4,
  "nbformat_minor": 0,
  "metadata": {
    "colab": {
      "provenance": []
    },
    "kernelspec": {
      "name": "python3",
      "display_name": "Python 3"
    },
    "language_info": {
      "name": "python"
    }
  },
  "cells": [
    {
      "cell_type": "markdown",
      "source": [
        "# **TWO SUM**"
      ],
      "metadata": {
        "id": "lIu6dgpXXHAW"
      }
    },
    {
      "cell_type": "code",
      "execution_count": null,
      "metadata": {
        "id": "Yn33NxSKW1hU"
      },
      "outputs": [],
      "source": [
        "class Solution:\n",
        "    def twoSum(self, nums, target):\n",
        "        # Create a dictionary to store the index of each number\n",
        "        num_map = {}\n",
        "\n",
        "        for i, num in enumerate(nums):\n",
        "            # Calculate the complement (what is needed to reach the target)\n",
        "            complement = target - num\n",
        "\n",
        "            # Check if the complement is already in the map\n",
        "            if complement in num_map:\n",
        "                return [num_map[complement], i]  # Return the indices of the two numbers\n",
        "\n",
        "            # Otherwise, store the current number's index\n",
        "            num_map[num] = i\n"
      ]
    },
    {
      "cell_type": "markdown",
      "source": [
        "# **PALINDROME NUMBER**"
      ],
      "metadata": {
        "id": "mG7s4wOGXOcs"
      }
    },
    {
      "cell_type": "code",
      "source": [
        "class Solution:\n",
        "    def isPalindrome(self, x):\n",
        "        # Negative numbers and numbers ending with 0 are not palindromes\n",
        "        if x < 0 or (x % 10 == 0 and x != 0):\n",
        "            return False\n",
        "\n",
        "        reversed_half = 0\n",
        "        while x > reversed_half:\n",
        "            reversed_half = reversed_half * 10 + x % 10\n",
        "            x //= 10\n",
        "\n",
        "        return x == reversed_half or x == reversed_half // 10"
      ],
      "metadata": {
        "id": "4p5-4p3YXNph"
      },
      "execution_count": null,
      "outputs": []
    },
    {
      "cell_type": "markdown",
      "source": [
        "# **KIDS WITH THE GREATEST NUMBER OF CANDIES**"
      ],
      "metadata": {
        "id": "Z9NIui9cYGb0"
      }
    },
    {
      "cell_type": "code",
      "source": [
        "class Solution:\n",
        "    def kidsWithCandies(self, candies, extraCandies):\n",
        "        max_candies = max(candies)  # Step 1: Find the max candies any kid has\n",
        "        result = []\n",
        "\n",
        "        for candy in candies:\n",
        "            result.append(candy + extraCandies >= max_candies)  # Step 2: Compare each\n",
        "\n",
        "        return result  # Step 3: Return the boolean list\n"
      ],
      "metadata": {
        "id": "m7xsXQvSYM6S"
      },
      "execution_count": null,
      "outputs": []
    },
    {
      "cell_type": "markdown",
      "source": [
        "# **FIZZ BUZZ**"
      ],
      "metadata": {
        "id": "GGX0iDJ0Xavb"
      }
    },
    {
      "cell_type": "code",
      "source": [
        "class Solution:\n",
        "    def fizzBuzz(self, n):\n",
        "        result = []  # Initialize an empty list to store the result\n",
        "        for i in range(1, n + 1):  # Loop through numbers from 1 to n\n",
        "            if i % 3 == 0 and i % 5 == 0:  # If divisible by both 3 and 5\n",
        "                result.append(\"FizzBuzz\")\n",
        "            elif i % 3 == 0:  # If divisible by 3\n",
        "                result.append(\"Fizz\")\n",
        "            elif i % 5 == 0:  # If divisible by 5\n",
        "                result.append(\"Buzz\")\n",
        "            else:  # If neither divisible by 3 nor 5\n",
        "                result.append(str(i))\n",
        "        return result"
      ],
      "metadata": {
        "id": "NqTzuXRgXezM"
      },
      "execution_count": null,
      "outputs": []
    },
    {
      "cell_type": "markdown",
      "source": [
        "# **DEFANGING AN IP**"
      ],
      "metadata": {
        "id": "wBs3ykZ8XhoK"
      }
    },
    {
      "cell_type": "code",
      "source": [
        "class Solution:\n",
        "    def defangIPaddr(self, address):\n",
        "        return address.replace(\".\", \"[.]\")"
      ],
      "metadata": {
        "id": "rGYObFXgXnvj"
      },
      "execution_count": null,
      "outputs": []
    },
    {
      "cell_type": "markdown",
      "source": [
        "# **SHUFFLE THE ARRAY**"
      ],
      "metadata": {
        "id": "kNzBgclUXqV6"
      }
    },
    {
      "cell_type": "code",
      "source": [
        "class Solution:\n",
        "    def shuffle(self, nums, n):\n",
        "        result = []  # Initialize an empty list to store the result\n",
        "        for i in range(n):  # Loop through the first half of the array\n",
        "            result.append(nums[i])  # Append the i-th element from the first half\n",
        "            result.append(nums[i + n])  # Append the i-th element from the second half\n",
        "        return result  # Return the shuffled list\n"
      ],
      "metadata": {
        "id": "mlmG2zidXxDN"
      },
      "execution_count": null,
      "outputs": []
    },
    {
      "cell_type": "markdown",
      "source": [
        "# **RICHEST CUSTOMER WEALTH**"
      ],
      "metadata": {
        "id": "yjK3YMwzX0VE"
      }
    },
    {
      "cell_type": "code",
      "source": [
        "class Solution:\n",
        "    def maximumWealth(self, accounts):\n",
        "        max_wealth = 0  # Initialize variable to store the maximum wealth\n",
        "\n",
        "        for account in accounts:  # Iterate through each customer's account\n",
        "            max_wealth = max(max_wealth, sum(account))  # Update max_wealth if the sum of the current account's wealth is greater\n",
        "\n",
        "        return max_wealth  # Return the maximum wealth\n"
      ],
      "metadata": {
        "id": "OtELkNrnX65U"
      },
      "execution_count": null,
      "outputs": []
    }
  ]
}